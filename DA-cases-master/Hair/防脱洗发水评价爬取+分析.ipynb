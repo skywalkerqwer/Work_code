{
 "cells": [
  {
   "cell_type": "markdown",
   "metadata": {},
   "source": [
    "### 公众号：数据不吹牛，更多案例和有趣分析等你来撩"
   ]
  },
  {
   "cell_type": "code",
   "execution_count": null,
   "metadata": {},
   "outputs": [],
   "source": [
    "import pandas as pd\n",
    "from selenium import webdriver\n",
    "import random\n",
    "import os\n",
    "import time"
   ]
  },
  {
   "cell_type": "markdown",
   "metadata": {},
   "source": [
    "### 爬取单页评价（每页20条）"
   ]
  },
  {
   "cell_type": "code",
   "execution_count": 216,
   "metadata": {},
   "outputs": [],
   "source": [
    "def get_page(driver):\n",
    "    \n",
    "    result = pd.DataFrame()\n",
    "    for i in driver.find_elements_by_xpath('//div[@class = \"rate-grid\"]/table/tbody/tr'):\n",
    "        try:\n",
    "            content = i.find_element_by_xpath('td[@class = \"tm-col-master\"]/div[@class = \"tm-rate-content\"]').text\n",
    "            #评价日期\n",
    "            date = i.find_element_by_xpath('td[@class = \"tm-col-master\"]/div[@class = \"tm-rate-date\"]').text\n",
    "            #购买产品\n",
    "            sku = i.find_element_by_xpath('td[@class = \"col-meta\"]/div[@class = \"rate-sku\"]').text\n",
    "\n",
    "            #用户名\n",
    "            username = i.find_element_by_xpath('td[@class = \"col-author\"]/div[@class = \"rate-user-info\"]').text\n",
    "            append_time = None\n",
    "            append_content = None\n",
    "\n",
    "        except:\n",
    "            content = i.find_element_by_xpath('td[@class = \"tm-col-master\"]/div[@class = \"tm-rate-premiere\"]/div[@class = \"tm-rate-content\"]').text\n",
    "            #评价日期\n",
    "            date = i.find_element_by_xpath('td[@class = \"tm-col-master\"]/div[@class = \"tm-rate-premiere\"]/div[@class = \"tm-rate-tag\"]/div[@class = \"tm-rate-date\"]').text\n",
    "            #购买产品\n",
    "            sku = i.find_element_by_xpath('td[@class = \"col-meta\"]/div[@class = \"rate-sku\"]').text\n",
    "            #用户名\n",
    "            username = i.find_element_by_xpath('td[@class = \"col-author\"]/div[@class = \"rate-user-info\"]').text\n",
    "\n",
    "            append_time = i.find_element_by_xpath('td[@class = \"tm-col-master\"]/div[@class = \"tm-rate-append\"]/div[1]').text\n",
    "            append_content = i.find_element_by_xpath('td[@class = \"tm-col-master\"]/div[@class = \"tm-rate-append\"]/div[2]').text\n",
    "\n",
    "        df = pd.DataFrame({'用户名':[username],'购买产品':[sku],'评价日期':[date],'初评内容':[content],\n",
    "                         '追评时间':[append_time],'追评内容':[append_content]})\n",
    "\n",
    "        result = pd.concat([result,df])\n",
    "    \n",
    "    return result,driver"
   ]
  },
  {
   "cell_type": "markdown",
   "metadata": {},
   "source": [
    "### 循环爬取，需要提前指定网址和评论总数"
   ]
  },
  {
   "cell_type": "code",
   "execution_count": 107,
   "metadata": {},
   "outputs": [],
   "source": [
    "url = 'https://detail.tmall.com/item.htm?spm=a230r.1.14.1.70f65edadaPTn3&id=521921506095&ns=1&abbucket=18'\n",
    "\n",
    "def carwl_product_comment(driver,url,max_num = 100):\n",
    "    driver.get(url)\n",
    "    \n",
    "    time.sleep(5)\n",
    "    #关掉要求登录的弹窗，就能够不登录状态下爬取\n",
    "    driver.find_element_by_xpath('//div[@class = \"sufei-dialog-close\"]').click()\n",
    "    \n",
    "    driver.implicitly_wait(5)\n",
    "    #点击到评论页面\n",
    "    try:\n",
    "        driver.find_element_by_xpath('//ul[@class = \"tabbar tm-clear\"]/li[2]').click()\n",
    "    except:\n",
    "        driver.implicitly_wait(5)\n",
    "        driver.find_element_by_xpath('//ul[@class = \"tabbar tm-clear\"]/li[2]').click()\n",
    "        \n",
    "    max_page = int(max_num / 20)\n",
    "    \n",
    "    if max_page > 90:\n",
    "        max_page = 90\n",
    "    else:\n",
    "        pass\n",
    "    \n",
    "    c = 1\n",
    "    final_re = pd.DataFrame()\n",
    "\n",
    "    while c <= max_page:\n",
    "        result,driver = get_page(driver)\n",
    "        final_re = pd.concat([final_re,result])\n",
    "        print('Bro，完成第{}页爬取'.format(c))\n",
    "\n",
    "        #点击下一页\n",
    "        driver.find_element_by_link_text('下一页>>').click()\n",
    "        c += 1\n",
    "        time.sleep(random.random() + 3)\n",
    "    return final_re"
   ]
  },
  {
   "cell_type": "markdown",
   "metadata": {},
   "source": [
    "### 运行\n",
    "#### 这里使用的是selenium中的PhantomJS，同学们也可以尝试Chrome，安装坑略多，不过网上都能找到相关解决方法"
   ]
  },
  {
   "cell_type": "code",
   "execution_count": 217,
   "metadata": {},
   "outputs": [],
   "source": [
    "driver = webdriver.PhantomJS()\n",
    "final_re = carwl_product_comment(driver,url)"
   ]
  },
  {
   "cell_type": "markdown",
   "metadata": {},
   "source": [
    "### 情感分词"
   ]
  },
  {
   "cell_type": "code",
   "execution_count": 208,
   "metadata": {},
   "outputs": [
    {
     "data": {
      "text/html": [
       "<div>\n",
       "<style>\n",
       "    .dataframe thead tr:only-child th {\n",
       "        text-align: right;\n",
       "    }\n",
       "\n",
       "    .dataframe thead th {\n",
       "        text-align: left;\n",
       "    }\n",
       "\n",
       "    .dataframe tbody tr th {\n",
       "        vertical-align: top;\n",
       "    }\n",
       "</style>\n",
       "<table border=\"1\" class=\"dataframe\">\n",
       "  <thead>\n",
       "    <tr style=\"text-align: right;\">\n",
       "      <th></th>\n",
       "      <th>品牌</th>\n",
       "      <th>买家</th>\n",
       "      <th>评价日期</th>\n",
       "      <th>初评内容</th>\n",
       "      <th>追评</th>\n",
       "      <th>SKU</th>\n",
       "    </tr>\n",
       "  </thead>\n",
       "  <tbody>\n",
       "    <tr>\n",
       "      <th>0</th>\n",
       "      <td>三个魔发匠</td>\n",
       "      <td>t**4</td>\n",
       "      <td>2019-11-21</td>\n",
       "      <td>用了之后真的是促进每个神经细胞的，洗发水的泡沫比较丰富的，不需要拿沐浴球搓，随便用手搓搓就可...</td>\n",
       "      <td>姗姗来迟的生姜洗发水，在关键时刻起到了最大的作用，洗头发顺顺滑滑的，特别清新，留香持久，洗的...</td>\n",
       "      <td>化妆品净含量：(2瓶）生姜洗发水500ml+500ml</td>\n",
       "    </tr>\n",
       "    <tr>\n",
       "      <th>1</th>\n",
       "      <td>三个魔发匠</td>\n",
       "      <td>t**3</td>\n",
       "      <td>2019-11-23</td>\n",
       "      <td>生姜洗发水用着很舒服，根据使用方法来洗一个地方就按一次，把头皮都按了个遍，很舒服，而且泡泡很...</td>\n",
       "      <td>淡淡的姜香味，闻着挺舒服的，而且这个控油去屑的效果真是无敌，不用再看到满头的头皮屑的感觉真好...</td>\n",
       "      <td>化妆品净含量：（1瓶）生姜洗发水500ml</td>\n",
       "    </tr>\n",
       "    <tr>\n",
       "      <th>2</th>\n",
       "      <td>三个魔发匠</td>\n",
       "      <td>喃**y</td>\n",
       "      <td>2019-11-22</td>\n",
       "      <td>朋友推荐来买的这款生姜洗发水，根据她们说效果很好！生姜发水一大瓶超级划算，九零后已经走上了防...</td>\n",
       "      <td>我闻着洗发水有很浓的生姜味道，但又不会很刺鼻，蛮好的，洗发后头皮不痒、没有头皮屑，至于生发效...</td>\n",
       "      <td>化妆品净含量：（1瓶）生姜洗发水500ml</td>\n",
       "    </tr>\n",
       "    <tr>\n",
       "      <th>3</th>\n",
       "      <td>三个魔发匠</td>\n",
       "      <td>f**0</td>\n",
       "      <td>2019-11-22</td>\n",
       "      <td>脱发的故事是缓缓写到结局，这款生姜洗发水是生姜提取物成分，使用也是非常的放心，而且这款洗发水...</td>\n",
       "      <td>唠唠叨叨的用这款洗发水洗头发非常舒服，洗发水温和的一点刺激感都没有，而且发质还变好了，包装的...</td>\n",
       "      <td>化妆品净含量：【1瓶】生姜洗发水500ml+【1瓶】香氛护发素500ml</td>\n",
       "    </tr>\n",
       "    <tr>\n",
       "      <th>4</th>\n",
       "      <td>三个魔发匠</td>\n",
       "      <td>z**珍</td>\n",
       "      <td>2019-11-24</td>\n",
       "      <td>水油平衡也改善了，洗发水用着很舒服，洗一个地方就要按一次，而且泡泡很容易冲洗干净，吹干头发超...</td>\n",
       "      <td>太值了，这款三个魔发匠生姜洗发水的香味我很喜欢，使用了以后感觉头发很顺，也不用油了，可以除螨...</td>\n",
       "      <td>化妆品净含量：【1瓶】生姜洗发水500ml+【1瓶】香氛护发素500ml</td>\n",
       "    </tr>\n",
       "  </tbody>\n",
       "</table>\n",
       "</div>"
      ],
      "text/plain": [
       "      品牌    买家       评价日期                                               初评内容  \\\n",
       "0  三个魔发匠  t**4 2019-11-21  用了之后真的是促进每个神经细胞的，洗发水的泡沫比较丰富的，不需要拿沐浴球搓，随便用手搓搓就可...   \n",
       "1  三个魔发匠  t**3 2019-11-23  生姜洗发水用着很舒服，根据使用方法来洗一个地方就按一次，把头皮都按了个遍，很舒服，而且泡泡很...   \n",
       "2  三个魔发匠  喃**y 2019-11-22  朋友推荐来买的这款生姜洗发水，根据她们说效果很好！生姜发水一大瓶超级划算，九零后已经走上了防...   \n",
       "3  三个魔发匠  f**0 2019-11-22  脱发的故事是缓缓写到结局，这款生姜洗发水是生姜提取物成分，使用也是非常的放心，而且这款洗发水...   \n",
       "4  三个魔发匠  z**珍 2019-11-24  水油平衡也改善了，洗发水用着很舒服，洗一个地方就要按一次，而且泡泡很容易冲洗干净，吹干头发超...   \n",
       "\n",
       "                                                  追评  \\\n",
       "0  姗姗来迟的生姜洗发水，在关键时刻起到了最大的作用，洗头发顺顺滑滑的，特别清新，留香持久，洗的...   \n",
       "1  淡淡的姜香味，闻着挺舒服的，而且这个控油去屑的效果真是无敌，不用再看到满头的头皮屑的感觉真好...   \n",
       "2  我闻着洗发水有很浓的生姜味道，但又不会很刺鼻，蛮好的，洗发后头皮不痒、没有头皮屑，至于生发效...   \n",
       "3  唠唠叨叨的用这款洗发水洗头发非常舒服，洗发水温和的一点刺激感都没有，而且发质还变好了，包装的...   \n",
       "4  太值了，这款三个魔发匠生姜洗发水的香味我很喜欢，使用了以后感觉头发很顺，也不用油了，可以除螨...   \n",
       "\n",
       "                                    SKU  \n",
       "0           化妆品净含量：(2瓶）生姜洗发水500ml+500ml  \n",
       "1                 化妆品净含量：（1瓶）生姜洗发水500ml  \n",
       "2                 化妆品净含量：（1瓶）生姜洗发水500ml  \n",
       "3  化妆品净含量：【1瓶】生姜洗发水500ml+【1瓶】香氛护发素500ml  \n",
       "4  化妆品净含量：【1瓶】生姜洗发水500ml+【1瓶】香氛护发素500ml  "
      ]
     },
     "execution_count": 208,
     "metadata": {},
     "output_type": "execute_result"
    }
   ],
   "source": [
    "from snownlp import SnowNLP\n",
    "\n",
    "sens = []\n",
    "\n",
    "for text in final_re['初评内容']:\n",
    "    s = SnowNLP(text)\n",
    "    sens.append(s.sentiments)\n",
    "    \n",
    "final_re['初评情感评分'] = sens"
   ]
  },
  {
   "cell_type": "markdown",
   "metadata": {},
   "source": [
    "### 情感评分分析"
   ]
  },
  {
   "cell_type": "code",
   "execution_count": 245,
   "metadata": {},
   "outputs": [
    {
     "data": {
      "text/plain": [
       "0.49948609661261906"
      ]
     },
     "execution_count": 245,
     "metadata": {},
     "output_type": "execute_result"
    }
   ],
   "source": [
    "final_re['初评情感评分'].mean()"
   ]
  },
  {
   "cell_type": "code",
   "execution_count": 234,
   "metadata": {},
   "outputs": [
    {
     "data": {
      "text/html": [
       "<div>\n",
       "<style>\n",
       "    .dataframe thead tr:only-child th {\n",
       "        text-align: right;\n",
       "    }\n",
       "\n",
       "    .dataframe thead th {\n",
       "        text-align: left;\n",
       "    }\n",
       "\n",
       "    .dataframe tbody tr th {\n",
       "        vertical-align: top;\n",
       "    }\n",
       "</style>\n",
       "<table border=\"1\" class=\"dataframe\">\n",
       "  <thead>\n",
       "    <tr style=\"text-align: right;\">\n",
       "      <th></th>\n",
       "      <th>情感评分</th>\n",
       "      <th>初评情感评分</th>\n",
       "    </tr>\n",
       "  </thead>\n",
       "  <tbody>\n",
       "    <tr>\n",
       "      <th>count</th>\n",
       "      <td>8980.000000</td>\n",
       "      <td>8980.000000</td>\n",
       "    </tr>\n",
       "    <tr>\n",
       "      <th>mean</th>\n",
       "      <td>0.499448</td>\n",
       "      <td>0.499448</td>\n",
       "    </tr>\n",
       "    <tr>\n",
       "      <th>std</th>\n",
       "      <td>0.347043</td>\n",
       "      <td>0.347043</td>\n",
       "    </tr>\n",
       "    <tr>\n",
       "      <th>min</th>\n",
       "      <td>0.000000</td>\n",
       "      <td>0.000000</td>\n",
       "    </tr>\n",
       "    <tr>\n",
       "      <th>25%</th>\n",
       "      <td>0.145513</td>\n",
       "      <td>0.145513</td>\n",
       "    </tr>\n",
       "    <tr>\n",
       "      <th>50%</th>\n",
       "      <td>0.489421</td>\n",
       "      <td>0.489421</td>\n",
       "    </tr>\n",
       "    <tr>\n",
       "      <th>75%</th>\n",
       "      <td>0.847504</td>\n",
       "      <td>0.847504</td>\n",
       "    </tr>\n",
       "    <tr>\n",
       "      <th>max</th>\n",
       "      <td>1.000000</td>\n",
       "      <td>1.000000</td>\n",
       "    </tr>\n",
       "  </tbody>\n",
       "</table>\n",
       "</div>"
      ],
      "text/plain": [
       "              情感评分       初评情感评分\n",
       "count  8980.000000  8980.000000\n",
       "mean      0.499448     0.499448\n",
       "std       0.347043     0.347043\n",
       "min       0.000000     0.000000\n",
       "25%       0.145513     0.145513\n",
       "50%       0.489421     0.489421\n",
       "75%       0.847504     0.847504\n",
       "max       1.000000     1.000000"
      ]
     },
     "execution_count": 234,
     "metadata": {},
     "output_type": "execute_result"
    }
   ],
   "source": [
    "final_re.describe()"
   ]
  },
  {
   "cell_type": "code",
   "execution_count": 243,
   "metadata": {},
   "outputs": [
    {
     "data": {
      "text/plain": [
       "<matplotlib.text.Text at 0x2be35940>"
      ]
     },
     "execution_count": 243,
     "metadata": {},
     "output_type": "execute_result"
    },
    {
     "data": {
      "image/png": "[encoded data removed]",
      "text/plain": [
       "<matplotlib.figure.Figure at 0x2be2e518>"
      ]
     },
     "metadata": {
      "needs_background": "light"
     },
     "output_type": "display_data"
    }
   ],
   "source": [
    "import seaborn as sns\n",
    "import matplotlib.pyplot as plt\n",
    "\n",
    "fig,ax = plt.subplots(1,1,figsize = (12,5))\n",
    "sns.distplot(final_re['初评情感评分'],color = 'red')\n",
    "\n",
    "plt.yticks(fontsize=11)\n",
    "plt.xticks(fontsize=11)\n",
    "\n",
    "ax.set_xlabel('情感评分', fontsize=14)"
   ]
  },
  {
   "cell_type": "code",
   "execution_count": 248,
   "metadata": {},
   "outputs": [
    {
     "data": {
      "text/html": [
       "<div>\n",
       "<style>\n",
       "    .dataframe thead tr:only-child th {\n",
       "        text-align: right;\n",
       "    }\n",
       "\n",
       "    .dataframe thead th {\n",
       "        text-align: left;\n",
       "    }\n",
       "\n",
       "    .dataframe tbody tr th {\n",
       "        vertical-align: top;\n",
       "    }\n",
       "</style>\n",
       "<table border=\"1\" class=\"dataframe\">\n",
       "  <thead>\n",
       "    <tr style=\"text-align: right;\">\n",
       "      <th></th>\n",
       "      <th>品牌</th>\n",
       "      <th>初评情感评分</th>\n",
       "    </tr>\n",
       "  </thead>\n",
       "  <tbody>\n",
       "    <tr>\n",
       "      <th>0</th>\n",
       "      <td>三个魔发匠</td>\n",
       "      <td>0.547250</td>\n",
       "    </tr>\n",
       "    <tr>\n",
       "      <th>1</th>\n",
       "      <td>有情生姜</td>\n",
       "      <td>0.630458</td>\n",
       "    </tr>\n",
       "    <tr>\n",
       "      <th>2</th>\n",
       "      <td>白云山敬修堂</td>\n",
       "      <td>0.573973</td>\n",
       "    </tr>\n",
       "    <tr>\n",
       "      <th>3</th>\n",
       "      <td>章光101</td>\n",
       "      <td>0.145513</td>\n",
       "    </tr>\n",
       "    <tr>\n",
       "      <th>4</th>\n",
       "      <td>霸王防脱</td>\n",
       "      <td>0.615317</td>\n",
       "    </tr>\n",
       "  </tbody>\n",
       "</table>\n",
       "</div>"
      ],
      "text/plain": [
       "       品牌    初评情感评分\n",
       "0   三个魔发匠  0.547250\n",
       "1    有情生姜  0.630458\n",
       "2  白云山敬修堂  0.573973\n",
       "3   章光101  0.145513\n",
       "4    霸王防脱  0.615317"
      ]
     },
     "execution_count": 248,
     "metadata": {},
     "output_type": "execute_result"
    }
   ],
   "source": [
    "final_re.groupby('品牌')['初评情感评分'].median().reset_index()"
   ]
  },
  {
   "cell_type": "code",
   "execution_count": null,
   "metadata": {},
   "outputs": [],
   "source": []
  },
  {
   "cell_type": "code",
   "execution_count": null,
   "metadata": {},
   "outputs": [],
   "source": []
  },
  {
   "cell_type": "code",
   "execution_count": null,
   "metadata": {},
   "outputs": [],
   "source": []
  }
 ],
 "metadata": {
  "kernelspec": {
   "display_name": "Python 3",
   "language": "python",
   "name": "python3"
  },
  "language_info": {
   "codemirror_mode": {
    "name": "ipython",
    "version": 3
   },
   "file_extension": ".py",
   "mimetype": "text/x-python",
   "name": "python",
   "nbconvert_exporter": "python",
   "pygments_lexer": "ipython3",
   "version": "3.5.3"
  }
 },
 "nbformat": 4,
 "nbformat_minor": 2
}
