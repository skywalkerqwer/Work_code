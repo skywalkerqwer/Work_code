{
 "cells": [
  {
   "cell_type": "markdown",
   "metadata": {},
   "source": [
    "### 公众号：数据不吹牛，更多案例和有趣分析等你来撩"
   ]
  },
  {
   "cell_type": "code",
   "execution_count": 33,
   "metadata": {},
   "outputs": [],
   "source": [
    "import pandas as pd\n",
    "import os\n",
    "import matplotlib.pyplot as plt\n",
    "\n",
    "%matplotlib inline"
   ]
  },
  {
   "cell_type": "markdown",
   "metadata": {},
   "source": [
    "### 导入数据"
   ]
  },
  {
   "cell_type": "code",
   "execution_count": 16,
   "metadata": {},
   "outputs": [],
   "source": [
    "os.chdir('C:\\\\Users\\\\Administrator\\\\Desktop\\\\JC数据集')"
   ]
  },
  {
   "cell_type": "code",
   "execution_count": 17,
   "metadata": {},
   "outputs": [
    {
     "data": {
      "text/html": [
       "<div>\n",
       "<style>\n",
       "    .dataframe thead tr:only-child th {\n",
       "        text-align: right;\n",
       "    }\n",
       "\n",
       "    .dataframe thead th {\n",
       "        text-align: left;\n",
       "    }\n",
       "\n",
       "    .dataframe tbody tr th {\n",
       "        vertical-align: top;\n",
       "    }\n",
       "</style>\n",
       "<table border=\"1\" class=\"dataframe\">\n",
       "  <thead>\n",
       "    <tr style=\"text-align: right;\">\n",
       "      <th></th>\n",
       "      <th>产品ID</th>\n",
       "      <th>价格</th>\n",
       "      <th>总销量</th>\n",
       "      <th>总评价数</th>\n",
       "      <th>规格类型</th>\n",
       "    </tr>\n",
       "  </thead>\n",
       "  <tbody>\n",
       "    <tr>\n",
       "      <th>0</th>\n",
       "      <td>59497802</td>\n",
       "      <td>189.0</td>\n",
       "      <td>22153</td>\n",
       "      <td>12269</td>\n",
       "      <td>套装</td>\n",
       "    </tr>\n",
       "    <tr>\n",
       "      <th>1</th>\n",
       "      <td>55594403</td>\n",
       "      <td>95.0</td>\n",
       "      <td>227064</td>\n",
       "      <td>53842</td>\n",
       "      <td>NaN</td>\n",
       "    </tr>\n",
       "    <tr>\n",
       "      <th>2</th>\n",
       "      <td>56419172</td>\n",
       "      <td>79.0</td>\n",
       "      <td>733418</td>\n",
       "      <td>130106</td>\n",
       "      <td>正常规格</td>\n",
       "    </tr>\n",
       "    <tr>\n",
       "      <th>3</th>\n",
       "      <td>58567235</td>\n",
       "      <td>89.0</td>\n",
       "      <td>480040</td>\n",
       "      <td>103975</td>\n",
       "      <td>常规单品</td>\n",
       "    </tr>\n",
       "    <tr>\n",
       "      <th>4</th>\n",
       "      <td>53625235</td>\n",
       "      <td>59.0</td>\n",
       "      <td>253606</td>\n",
       "      <td>49611</td>\n",
       "      <td>常规单品</td>\n",
       "    </tr>\n",
       "  </tbody>\n",
       "</table>\n",
       "</div>"
      ],
      "text/plain": [
       "       产品ID     价格     总销量    总评价数  规格类型\n",
       "0  59497802  189.0   22153   12269    套装\n",
       "1  55594403   95.0  227064   53842   NaN\n",
       "2  56419172   79.0  733418  130106  正常规格\n",
       "3  58567235   89.0  480040  103975  常规单品\n",
       "4  53625235   59.0  253606   49611  常规单品"
      ]
     },
     "execution_count": 17,
     "metadata": {},
     "output_type": "execute_result"
    }
   ],
   "source": [
    "df = pd.read_excel('刷单鉴定评价数据.xlsx')\n",
    "df.head()"
   ]
  },
  {
   "cell_type": "markdown",
   "metadata": {},
   "source": [
    "### 计算评销比"
   ]
  },
  {
   "cell_type": "code",
   "execution_count": 18,
   "metadata": {},
   "outputs": [
    {
     "data": {
      "text/html": [
       "<div>\n",
       "<style>\n",
       "    .dataframe thead tr:only-child th {\n",
       "        text-align: right;\n",
       "    }\n",
       "\n",
       "    .dataframe thead th {\n",
       "        text-align: left;\n",
       "    }\n",
       "\n",
       "    .dataframe tbody tr th {\n",
       "        vertical-align: top;\n",
       "    }\n",
       "</style>\n",
       "<table border=\"1\" class=\"dataframe\">\n",
       "  <thead>\n",
       "    <tr style=\"text-align: right;\">\n",
       "      <th></th>\n",
       "      <th>产品ID</th>\n",
       "      <th>价格</th>\n",
       "      <th>总销量</th>\n",
       "      <th>总评价数</th>\n",
       "      <th>规格类型</th>\n",
       "      <th>评销比</th>\n",
       "    </tr>\n",
       "  </thead>\n",
       "  <tbody>\n",
       "    <tr>\n",
       "      <th>0</th>\n",
       "      <td>59497802</td>\n",
       "      <td>189.0</td>\n",
       "      <td>22153</td>\n",
       "      <td>12269</td>\n",
       "      <td>套装</td>\n",
       "      <td>55.383018</td>\n",
       "    </tr>\n",
       "    <tr>\n",
       "      <th>1</th>\n",
       "      <td>55594403</td>\n",
       "      <td>95.0</td>\n",
       "      <td>227064</td>\n",
       "      <td>53842</td>\n",
       "      <td>NaN</td>\n",
       "      <td>23.712257</td>\n",
       "    </tr>\n",
       "    <tr>\n",
       "      <th>2</th>\n",
       "      <td>56419172</td>\n",
       "      <td>79.0</td>\n",
       "      <td>733418</td>\n",
       "      <td>130106</td>\n",
       "      <td>正常规格</td>\n",
       "      <td>17.739679</td>\n",
       "    </tr>\n",
       "    <tr>\n",
       "      <th>3</th>\n",
       "      <td>58567235</td>\n",
       "      <td>89.0</td>\n",
       "      <td>480040</td>\n",
       "      <td>103975</td>\n",
       "      <td>常规单品</td>\n",
       "      <td>21.659653</td>\n",
       "    </tr>\n",
       "    <tr>\n",
       "      <th>4</th>\n",
       "      <td>53625235</td>\n",
       "      <td>59.0</td>\n",
       "      <td>253606</td>\n",
       "      <td>49611</td>\n",
       "      <td>常规单品</td>\n",
       "      <td>19.562234</td>\n",
       "    </tr>\n",
       "  </tbody>\n",
       "</table>\n",
       "</div>"
      ],
      "text/plain": [
       "       产品ID     价格     总销量    总评价数  规格类型        评销比\n",
       "0  59497802  189.0   22153   12269    套装  55.383018\n",
       "1  55594403   95.0  227064   53842   NaN  23.712257\n",
       "2  56419172   79.0  733418  130106  正常规格  17.739679\n",
       "3  58567235   89.0  480040  103975  常规单品  21.659653\n",
       "4  53625235   59.0  253606   49611  常规单品  19.562234"
      ]
     },
     "execution_count": 18,
     "metadata": {},
     "output_type": "execute_result"
    }
   ],
   "source": [
    "df['评销比'] = df['总评价数'] / df['总销量'] * 100\n",
    "df.head()"
   ]
  },
  {
   "cell_type": "markdown",
   "metadata": {},
   "source": [
    "### 查看评销比分布"
   ]
  },
  {
   "cell_type": "code",
   "execution_count": 19,
   "metadata": {},
   "outputs": [
    {
     "data": {
      "text/plain": [
       "<matplotlib.text.Text at 0x99d2eb8>"
      ]
     },
     "execution_count": 19,
     "metadata": {},
     "output_type": "execute_result"
    },
    {
     "data": {
      "image/png": "[encoded data removed]",
      "text/plain": [
       "<matplotlib.figure.Figure at 0x99d22e8>"
      ]
     },
     "metadata": {
      "needs_background": "light"
     },
     "output_type": "display_data"
    }
   ],
   "source": [
    "import seaborn as sns\n",
    "import matplotlib.pyplot as plt\n",
    "\n",
    "fig,ax = plt.subplots(1,1,figsize = (10,5))\n",
    "sns.distplot(df['评销比'],color = 'red',kde = False)\n",
    "\n",
    "plt.yticks(fontsize=11)\n",
    "plt.xticks(fontsize=11)\n",
    "\n",
    "ax.set_xlabel('评销比', fontsize=14)"
   ]
  },
  {
   "cell_type": "markdown",
   "metadata": {},
   "source": [
    "### 判断是否有刷单嫌疑"
   ]
  },
  {
   "cell_type": "code",
   "execution_count": 20,
   "metadata": {},
   "outputs": [
    {
     "data": {
      "text/plain": [
       "False    166\n",
       "True      22\n",
       "Name: 是否有刷单嫌疑, dtype: int64"
      ]
     },
     "execution_count": 20,
     "metadata": {},
     "output_type": "execute_result"
    }
   ],
   "source": [
    "df['是否有刷单嫌疑'] = df['评销比'] > 40\n",
    "df['是否有刷单嫌疑'].value_counts()"
   ]
  },
  {
   "cell_type": "markdown",
   "metadata": {},
   "source": [
    "### 导入评论数据"
   ]
  },
  {
   "cell_type": "code",
   "execution_count": 28,
   "metadata": {},
   "outputs": [
    {
     "data": {
      "text/html": [
       "<div>\n",
       "<style>\n",
       "    .dataframe thead tr:only-child th {\n",
       "        text-align: right;\n",
       "    }\n",
       "\n",
       "    .dataframe thead th {\n",
       "        text-align: left;\n",
       "    }\n",
       "\n",
       "    .dataframe tbody tr th {\n",
       "        vertical-align: top;\n",
       "    }\n",
       "</style>\n",
       "<table border=\"1\" class=\"dataframe\">\n",
       "  <thead>\n",
       "    <tr style=\"text-align: right;\">\n",
       "      <th></th>\n",
       "      <th>买家</th>\n",
       "      <th>初评内容</th>\n",
       "      <th>评价日期</th>\n",
       "      <th>追评</th>\n",
       "    </tr>\n",
       "  </thead>\n",
       "  <tbody>\n",
       "    <tr>\n",
       "      <th>0</th>\n",
       "      <td>摈**唉</td>\n",
       "      <td>昨天晚上用了一次， 姜味很浓，用过一段时间再看看效果吧，好用会再回购的！</td>\n",
       "      <td>2019-11-29</td>\n",
       "      <td>-</td>\n",
       "    </tr>\n",
       "    <tr>\n",
       "      <th>1</th>\n",
       "      <td>t**4</td>\n",
       "      <td>最近脱发特别严重，鬓角的头发最是损失惨重，抱着试试看的态度来的，目前我用了1个疗程感觉恢复得...</td>\n",
       "      <td>2019-11-29</td>\n",
       "      <td>-</td>\n",
       "    </tr>\n",
       "    <tr>\n",
       "      <th>2</th>\n",
       "      <td>露**发</td>\n",
       "      <td>最近头发大把大把的脱，特别是洗头的时候！刚开始是抱着试试的心态，每次都会隔断时间拍照自己对比...</td>\n",
       "      <td>2019-11-29</td>\n",
       "      <td>-</td>\n",
       "    </tr>\n",
       "    <tr>\n",
       "      <th>3</th>\n",
       "      <td>t**6</td>\n",
       "      <td>质量很好，效果不错</td>\n",
       "      <td>2019-11-29</td>\n",
       "      <td>-</td>\n",
       "    </tr>\n",
       "    <tr>\n",
       "      <th>4</th>\n",
       "      <td>去**5</td>\n",
       "      <td>这次放假回家看到老爸的大脑门，莫名的揪心，老爸为家庭操心了太多，头发一直在掉，这次买了这款防...</td>\n",
       "      <td>2019-11-29</td>\n",
       "      <td>-</td>\n",
       "    </tr>\n",
       "  </tbody>\n",
       "</table>\n",
       "</div>"
      ],
      "text/plain": [
       "     买家                                               初评内容       评价日期 追评\n",
       "0  摈**唉               昨天晚上用了一次， 姜味很浓，用过一段时间再看看效果吧，好用会再回购的！ 2019-11-29  -\n",
       "1  t**4  最近脱发特别严重，鬓角的头发最是损失惨重，抱着试试看的态度来的，目前我用了1个疗程感觉恢复得... 2019-11-29  -\n",
       "2  露**发  最近头发大把大把的脱，特别是洗头的时候！刚开始是抱着试试的心态，每次都会隔断时间拍照自己对比... 2019-11-29  -\n",
       "3  t**6                                          质量很好，效果不错 2019-11-29  -\n",
       "4  去**5  这次放假回家看到老爸的大脑门，莫名的揪心，老爸为家庭操心了太多，头发一直在掉，这次买了这款防... 2019-11-29  -"
      ]
     },
     "execution_count": 28,
     "metadata": {},
     "output_type": "execute_result"
    }
   ],
   "source": [
    "comments = pd.read_excel('生姜防脱洗发水.xlsx')\n",
    "comments.head()"
   ]
  },
  {
   "cell_type": "markdown",
   "metadata": {},
   "source": [
    "### 评价长度筛选"
   ]
  },
  {
   "cell_type": "code",
   "execution_count": 29,
   "metadata": {},
   "outputs": [
    {
     "name": "stdout",
     "output_type": "stream",
     "text": [
      "(1200, 5)\n"
     ]
    },
    {
     "data": {
      "text/html": [
       "<div>\n",
       "<style>\n",
       "    .dataframe thead tr:only-child th {\n",
       "        text-align: right;\n",
       "    }\n",
       "\n",
       "    .dataframe thead th {\n",
       "        text-align: left;\n",
       "    }\n",
       "\n",
       "    .dataframe tbody tr th {\n",
       "        vertical-align: top;\n",
       "    }\n",
       "</style>\n",
       "<table border=\"1\" class=\"dataframe\">\n",
       "  <thead>\n",
       "    <tr style=\"text-align: right;\">\n",
       "      <th></th>\n",
       "      <th>买家</th>\n",
       "      <th>初评内容</th>\n",
       "      <th>评价日期</th>\n",
       "      <th>追评</th>\n",
       "      <th>评价长度</th>\n",
       "    </tr>\n",
       "  </thead>\n",
       "  <tbody>\n",
       "    <tr>\n",
       "      <th>0</th>\n",
       "      <td>摈**唉</td>\n",
       "      <td>昨天晚上用了一次， 姜味很浓，用过一段时间再看看效果吧，好用会再回购的！</td>\n",
       "      <td>2019-11-29</td>\n",
       "      <td>-</td>\n",
       "      <td>36</td>\n",
       "    </tr>\n",
       "    <tr>\n",
       "      <th>1</th>\n",
       "      <td>t**4</td>\n",
       "      <td>最近脱发特别严重，鬓角的头发最是损失惨重，抱着试试看的态度来的，目前我用了1个疗程感觉恢复得...</td>\n",
       "      <td>2019-11-29</td>\n",
       "      <td>-</td>\n",
       "      <td>80</td>\n",
       "    </tr>\n",
       "    <tr>\n",
       "      <th>2</th>\n",
       "      <td>露**发</td>\n",
       "      <td>最近头发大把大把的脱，特别是洗头的时候！刚开始是抱着试试的心态，每次都会隔断时间拍照自己对比...</td>\n",
       "      <td>2019-11-29</td>\n",
       "      <td>-</td>\n",
       "      <td>85</td>\n",
       "    </tr>\n",
       "    <tr>\n",
       "      <th>4</th>\n",
       "      <td>去**5</td>\n",
       "      <td>这次放假回家看到老爸的大脑门，莫名的揪心，老爸为家庭操心了太多，头发一直在掉，这次买了这款防...</td>\n",
       "      <td>2019-11-29</td>\n",
       "      <td>-</td>\n",
       "      <td>76</td>\n",
       "    </tr>\n",
       "    <tr>\n",
       "      <th>5</th>\n",
       "      <td>德**艺</td>\n",
       "      <td>以前就用过这款生姜洗发水防脱发效果真的很好，这次这个疗程是买来巩固的用过之后脱发已经很少了，...</td>\n",
       "      <td>2019-11-29</td>\n",
       "      <td>-</td>\n",
       "      <td>60</td>\n",
       "    </tr>\n",
       "  </tbody>\n",
       "</table>\n",
       "</div>"
      ],
      "text/plain": [
       "     买家                                               初评内容       评价日期 追评  评价长度\n",
       "0  摈**唉               昨天晚上用了一次， 姜味很浓，用过一段时间再看看效果吧，好用会再回购的！ 2019-11-29  -    36\n",
       "1  t**4  最近脱发特别严重，鬓角的头发最是损失惨重，抱着试试看的态度来的，目前我用了1个疗程感觉恢复得... 2019-11-29  -    80\n",
       "2  露**发  最近头发大把大把的脱，特别是洗头的时候！刚开始是抱着试试的心态，每次都会隔断时间拍照自己对比... 2019-11-29  -    85\n",
       "4  去**5  这次放假回家看到老爸的大脑门，莫名的揪心，老爸为家庭操心了太多，头发一直在掉，这次买了这款防... 2019-11-29  -    76\n",
       "5  德**艺  以前就用过这款生姜洗发水防脱发效果真的很好，这次这个疗程是买来巩固的用过之后脱发已经很少了，... 2019-11-29  -    60"
      ]
     },
     "execution_count": 29,
     "metadata": {},
     "output_type": "execute_result"
    }
   ],
   "source": [
    "comments['评价长度'] = comments['初评内容'].apply(len)\n",
    "comments = comments.loc[comments['评价长度'] > 15,:]\n",
    "print(comments.shape)\n",
    "comments.head()"
   ]
  },
  {
   "cell_type": "markdown",
   "metadata": {},
   "source": [
    "### 按内容排序，找到嫌疑评价"
   ]
  },
  {
   "cell_type": "code",
   "execution_count": 31,
   "metadata": {},
   "outputs": [
    {
     "data": {
      "text/html": [
       "<div>\n",
       "<style>\n",
       "    .dataframe thead tr:only-child th {\n",
       "        text-align: right;\n",
       "    }\n",
       "\n",
       "    .dataframe thead th {\n",
       "        text-align: left;\n",
       "    }\n",
       "\n",
       "    .dataframe tbody tr th {\n",
       "        vertical-align: top;\n",
       "    }\n",
       "</style>\n",
       "<table border=\"1\" class=\"dataframe\">\n",
       "  <thead>\n",
       "    <tr style=\"text-align: right;\">\n",
       "      <th></th>\n",
       "      <th>买家</th>\n",
       "      <th>初评内容</th>\n",
       "      <th>评价日期</th>\n",
       "      <th>追评</th>\n",
       "      <th>评价长度</th>\n",
       "    </tr>\n",
       "  </thead>\n",
       "  <tbody>\n",
       "    <tr>\n",
       "      <th>1307</th>\n",
       "      <td>你**个</td>\n",
       "      <td>感觉越洗头发掉得越多，每次洗必须要用洗发水两次以上，还要搓按5分钟，这样洗下去头发本来就少，...</td>\n",
       "      <td>2019-07-11</td>\n",
       "      <td>我是短发，洗一次掉这么多，以前洗只掉几根，洗了之后头痒的要死，当初客服说用了不适应可以退，现...</td>\n",
       "      <td>348</td>\n",
       "    </tr>\n",
       "    <tr>\n",
       "      <th>1147</th>\n",
       "      <td>y**8</td>\n",
       "      <td>使用了第二次才来评价的，我头发很长（齐膝）掉得特别厉害。之前使用防脱洗发水用完之后呢换成了潘...</td>\n",
       "      <td>2019-09-02</td>\n",
       "      <td>长头发的妹子可以试试这款洗发水哦！我现在掉发已经开始在变少了，开心</td>\n",
       "      <td>290</td>\n",
       "    </tr>\n",
       "    <tr>\n",
       "      <th>629</th>\n",
       "      <td>0**b</td>\n",
       "      <td>1客服小海马说寄来的品牌是柏诗春天，我下单购买的海洋诗韵，俩不同品牌都是一个厂家生产的，让我...</td>\n",
       "      <td>2019-10-22</td>\n",
       "      <td>-</td>\n",
       "      <td>290</td>\n",
       "    </tr>\n",
       "    <tr>\n",
       "      <th>151</th>\n",
       "      <td>t**1</td>\n",
       "      <td>自从高考那个紧张的阶段后，我的头发就很会掉，每天都房间里，床铺上地上都可以看到我的掉发，每次...</td>\n",
       "      <td>2019-11-21</td>\n",
       "      <td>-</td>\n",
       "      <td>177</td>\n",
       "    </tr>\n",
       "    <tr>\n",
       "      <th>587</th>\n",
       "      <td>女**8</td>\n",
       "      <td>自从高考那个紧张的阶段后，我的头发就很会掉，每天都房间里，床铺上地上都可以看到我的掉发，每次...</td>\n",
       "      <td>2019-10-24</td>\n",
       "      <td>-</td>\n",
       "      <td>177</td>\n",
       "    </tr>\n",
       "    <tr>\n",
       "      <th>674</th>\n",
       "      <td>e**1</td>\n",
       "      <td>自从高考那个紧张的阶段后，我的头发就很会掉，每天都房间里，床铺上地上都可以看到我的掉发，每次...</td>\n",
       "      <td>2019-10-16</td>\n",
       "      <td>-</td>\n",
       "      <td>177</td>\n",
       "    </tr>\n",
       "  </tbody>\n",
       "</table>\n",
       "</div>"
      ],
      "text/plain": [
       "        买家                                               初评内容       评价日期  \\\n",
       "1307  你**个  感觉越洗头发掉得越多，每次洗必须要用洗发水两次以上，还要搓按5分钟，这样洗下去头发本来就少，... 2019-07-11   \n",
       "1147  y**8  使用了第二次才来评价的，我头发很长（齐膝）掉得特别厉害。之前使用防脱洗发水用完之后呢换成了潘... 2019-09-02   \n",
       "629   0**b  1客服小海马说寄来的品牌是柏诗春天，我下单购买的海洋诗韵，俩不同品牌都是一个厂家生产的，让我... 2019-10-22   \n",
       "151   t**1  自从高考那个紧张的阶段后，我的头发就很会掉，每天都房间里，床铺上地上都可以看到我的掉发，每次... 2019-11-21   \n",
       "587   女**8  自从高考那个紧张的阶段后，我的头发就很会掉，每天都房间里，床铺上地上都可以看到我的掉发，每次... 2019-10-24   \n",
       "674   e**1  自从高考那个紧张的阶段后，我的头发就很会掉，每天都房间里，床铺上地上都可以看到我的掉发，每次... 2019-10-16   \n",
       "\n",
       "                                                     追评  评价长度  \n",
       "1307  我是短发，洗一次掉这么多，以前洗只掉几根，洗了之后头痒的要死，当初客服说用了不适应可以退，现...   348  \n",
       "1147                  长头发的妹子可以试试这款洗发水哦！我现在掉发已经开始在变少了，开心   290  \n",
       "629                                                   -   290  \n",
       "151                                                   -   177  \n",
       "587                                                   -   177  \n",
       "674                                                   -   177  "
      ]
     },
     "execution_count": 31,
     "metadata": {},
     "output_type": "execute_result"
    }
   ],
   "source": [
    "comments = comments.sort_values(['评价长度','初评内容'],ascending = False)\n",
    "comments.head(6)"
   ]
  },
  {
   "cell_type": "markdown",
   "metadata": {},
   "source": [
    "### 统计重复评价数"
   ]
  },
  {
   "cell_type": "code",
   "execution_count": 27,
   "metadata": {},
   "outputs": [
    {
     "name": "stdout",
     "output_type": "stream",
     "text": [
      "总评价数： 1200\n",
      "重复的评价数占比：31.5%\n"
     ]
    }
   ],
   "source": [
    "#按内容分组，统计每条评价出现的次数\n",
    "filt = comments.groupby('初评内容')['买家'].count().reset_index()\n",
    "filt.columns = ['初评内容','重复次数']\n",
    "\n",
    "#统计重复评价出现的次数\n",
    "reap = filt.loc[filt['重复次数'] > 1,'重复次数'].sum()\n",
    "\n",
    "print('总评价数：',len(comments))\n",
    "print('重复的评价数占比：{}%'.format(reap / len(comments) * 100))"
   ]
  },
  {
   "cell_type": "code",
   "execution_count": null,
   "metadata": {},
   "outputs": [],
   "source": []
  }
 ],
 "metadata": {
  "kernelspec": {
   "display_name": "Python 3",
   "language": "python",
   "name": "python3"
  },
  "language_info": {
   "codemirror_mode": {
    "name": "ipython",
    "version": 3
   },
   "file_extension": ".py",
   "mimetype": "text/x-python",
   "name": "python",
   "nbconvert_exporter": "python",
   "pygments_lexer": "ipython3",
   "version": "3.5.3"
  }
 },
 "nbformat": 4,
 "nbformat_minor": 2
}
