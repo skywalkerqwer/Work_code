{
 "cells": [
  {
   "cell_type": "code",
   "execution_count": 1,
   "metadata": {},
   "outputs": [
    {
     "data": {
      "text/plain": [
       "['卡升级信息20191111.xlsx',\n",
       " '卡升级信息20191112.xlsx',\n",
       " '卡升级信息20191113.xlsx',\n",
       " '卡升级信息20191114.xlsx',\n",
       " '卡升级信息20191115.xlsx',\n",
       " '卡升级信息20191118 17-00.xlsx',\n",
       " '卡升级信息20191118.xlsx',\n",
       " '卡升级信息20191120.xlsx',\n",
       " '卡升级信息20191121.xlsx',\n",
       " '天津国寿庆典钜献活动数据20191104.xlsx',\n",
       " '天津国寿庆典钜献活动数据20191105.xlsx',\n",
       " '天津国寿庆典钜献活动数据20191106.xlsx',\n",
       " '天津国寿庆典钜献活动数据20191107.xlsx',\n",
       " '天津国寿庆典钜献活动数据20191108.xlsx',\n",
       " '天津国寿庆典钜献活动数据20191111.xlsx',\n",
       " '天津国寿庆典钜献活动数据20191112.xlsx',\n",
       " '天津国寿庆典钜献活动数据20191113.xlsx',\n",
       " '天津国寿庆典钜献活动数据20191114.xlsx',\n",
       " '天津国寿庆典钜献活动数据20191115.xlsx',\n",
       " '天津国寿庆典钜献活动数据20191118  17-00.xlsx',\n",
       " '天津国寿庆典钜献活动数据20191118.xlsx',\n",
       " '天津国寿庆典钜献活动数据20191120.xlsx',\n",
       " '天津国寿庆典钜献活动数据20191121.xlsx',\n",
       " '天津国寿庆典钜献活动数据模板.xlsx',\n",
       " '第三重好礼白金卡升级明细20191107.xlsx',\n",
       " '第三重好礼白金卡升级明细20191108.xlsx']"
      ]
     },
     "execution_count": 1,
     "metadata": {},
     "output_type": "execute_result"
    }
   ],
   "source": [
    "# 读取文件夹下的所有文件名称\n",
    "import os\n",
    "file_path = r'C:\\Users\\Healthlink\\Desktop\\日报统计数据\\天津国寿庆典钜献'\n",
    "os.listdir(file_path)"
   ]
  },
  {
   "cell_type": "code",
   "execution_count": null,
   "metadata": {},
   "outputs": [],
   "source": []
  }
 ],
 "metadata": {
  "kernelspec": {
   "display_name": "Python 3",
   "language": "python",
   "name": "python3"
  },
  "language_info": {
   "codemirror_mode": {
    "name": "ipython",
    "version": 3
   },
   "file_extension": ".py",
   "mimetype": "text/x-python",
   "name": "python",
   "nbconvert_exporter": "python",
   "pygments_lexer": "ipython3",
   "version": "3.7.3"
  }
 },
 "nbformat": 4,
 "nbformat_minor": 2
}
